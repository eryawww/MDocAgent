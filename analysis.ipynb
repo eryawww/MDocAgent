{
 "cells": [
  {
   "cell_type": "markdown",
   "metadata": {},
   "source": [
    "# Loading Data"
   ]
  },
  {
   "cell_type": "code",
   "execution_count": 3,
   "metadata": {},
   "outputs": [],
   "source": [
    "import pandas as pd\n",
    "\n",
    "df = pd.read_json('results/PaperTab/2/2025-05-19-08-41.json')"
   ]
  },
  {
   "cell_type": "code",
   "execution_count": 45,
   "metadata": {},
   "outputs": [
    {
     "name": "stdout",
     "output_type": "stream",
     "text": [
      "==================== User Prompt: \n",
      "You are tasked with summarizing and evaluating the collective responses provided by multiple agents. You have access to the following information:\n",
      "Answers: The individual answers from all agents.\n",
      "Using this information, perform the following tasks:\n",
      "Analyze: Evaluate the quality, consistency, and relevance of each answer. Identify commonalities, discrepancies, or gaps in reasoning.\n",
      "Synthesize: Summarize the most accurate and reliable information based on the evidence provided by the agents and their discussions.\n",
      "Conclude: Provide a final, well-reasoned answer to the question or task. Your conclusion should reflect the consensus (if one exists) or the most credible and well-supported answer.\n",
      "Based on the provided answers from all agents, summarize the final decision clearly. You should only return the final answer in this dictionary format: {\"Answer\": <Your final answer here>}. Don't give other information.\n",
      "==================== General Agent: \n",
      "Based on the information provided in the text and the image, it is not clear whether they use graphical models. The text does not mention the use of graphical models, and the image does not contain any visual information that would indicate the use of graphical models. Therefore, I cannot provide a definitive answer to the question.\n",
      "==================== Text Agent: \n",
      "Based on the provided text, there is no direct mention of graphical models. However, there are mentions of other techniques and methods used in the project, such as:\n",
      "\n",
      "* Clustering (monolingual and crosslingual)\n",
      "* SVM (Support Vector Machine) training procedures for ranking and classification\n",
      "* Deep embedded clustering with local structure preservation\n",
      "* Distributed representations of sentences and documents\n",
      "* Event registry: learning about world events from news\n",
      "* Model of social dynamics to predict popularity of news\n",
      "* Turbo parsers\n",
      "\n",
      "These techniques might be related to graphical models, but it's not explicitly stated. If you're looking for a direct answer, I would say that there is no clear indication that graphical models are used in the project. However, it's possible that graphical models are used in some of the mentioned techniques, but it's not explicitly mentioned.\n",
      "==================== Image Agent: \n",
      "No, they do not use graphical models.\n",
      "==================== Response Chat: \n",
      "{\"Answer\": \"Based on the provided information, there is no clear indication that graphical models are used in the project. The text does not mention the use of graphical models, and the image does not contain any visual information that would indicate the use of graphical models. Therefore, it cannot be definitively concluded that graphical models are used in the project.\"}\n"
     ]
    }
   ],
   "source": [
    "import json\n",
    "from dataclasses import dataclass\n",
    "\n",
    "@dataclass\n",
    "class ExperimentResult:\n",
    "    user_chat: str\n",
    "    response_chat: str\n",
    "\n",
    "    user_prompt: str\n",
    "    general_agent: str\n",
    "    text_agent: str\n",
    "    image_agent: str\n",
    "\n",
    "    @staticmethod\n",
    "    def from_json(user_ai_interaction: dict):\n",
    "        user_chat = user_ai_interaction[0]['content'][0]['text']\n",
    "        response_chat = user_ai_interaction[1]['content'][0]['text']\n",
    "        \n",
    "        # Extract agent responses\n",
    "        user_prompt = \"\"\n",
    "        general_agent = \"\"\n",
    "        text_agent = \"\"\n",
    "        image_agent = \"\"\n",
    "        \n",
    "        if \"General Agent:\" in user_chat:\n",
    "            parts = user_chat.split(\"General Agent:\")\n",
    "            if len(parts) > 1:\n",
    "                user_prompt = parts[0].strip()\n",
    "                general_part = parts[1].split(\"Text Agent:\")[0].strip()\n",
    "                general_agent = general_part\n",
    "                \n",
    "        if \"Text Agent:\" in user_chat:\n",
    "            parts = user_chat.split(\"Text Agent:\")\n",
    "            if len(parts) > 1:\n",
    "                text_part = parts[1].split(\"Image Agent:\")[0].strip()\n",
    "                text_agent = text_part\n",
    "                \n",
    "        if \"Image Agent:\" in user_chat:\n",
    "            parts = user_chat.split(\"Image Agent:\")\n",
    "            if len(parts) > 1:\n",
    "                image_part = parts[1].strip()\n",
    "                image_agent = image_part\n",
    "        \n",
    "        return ExperimentResult(\n",
    "            user_chat=user_chat,\n",
    "            user_prompt=user_prompt,\n",
    "            general_agent=general_agent,\n",
    "            text_agent=text_agent,\n",
    "            image_agent=image_agent,\n",
    "            response_chat=response_chat\n",
    "        )\n",
    "\n",
    "    def __str__(self):\n",
    "        return \\\n",
    "            f\"{'='*20} User Prompt: \\n{self.user_prompt}\\n\" \\\n",
    "            f\"{'='*20} General Agent: \\n{self.general_agent}\\n\" \\\n",
    "            f\"{'='*20} Text Agent: \\n{self.text_agent}\\n\" \\\n",
    "            f\"{'='*20} Image Agent: \\n{self.image_agent}\\n\" \\\n",
    "            f\"{'='*20} Response Chat: \\n{self.response_chat}\"\n",
    "\n",
    "sample_result = ExperimentResult.from_json(df['ans_2_message'].iloc[8])\n",
    "print(sample_result)"
   ]
  }
 ],
 "metadata": {
  "kernelspec": {
   "display_name": "mdocagent",
   "language": "python",
   "name": "mdocagent"
  }
 },
 "nbformat": 4,
 "nbformat_minor": 2
}
